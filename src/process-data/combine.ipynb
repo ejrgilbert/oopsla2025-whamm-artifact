{
 "cells": [
  {
   "cell_type": "code",
   "execution_count": 202,
   "id": "7bc27efc",
   "metadata": {},
   "outputs": [],
   "source": [
    "import pandas as pd\n",
    "import os\n",
    "import glob"
   ]
  },
  {
   "cell_type": "code",
   "execution_count": 210,
   "id": "317e96e5",
   "metadata": {},
   "outputs": [],
   "source": [
    "old = pd.read_csv(\"all-results.csv\")"
   ]
  },
  {
   "cell_type": "code",
   "execution_count": 222,
   "id": "42c6ae0e",
   "metadata": {},
   "outputs": [
    {
     "name": "stdout",
     "output_type": "stream",
     "text": [
      "whamm_rewriting-ostrich.csv\n",
      "r3-five-runs.csv\n",
      "wizeng_native-polybench.csv\n",
      "whamm_engine-r3-newmons.csv\n",
      "whamm_rewriting-r3-oldmons.csv\n",
      "whamm_rewriting-polybench-newmons.csv\n",
      "wasabi-r3-newmons(only_supports_this_one).csv\n",
      "whamm_engine-libsodium-(some)branches.csv\n",
      "whamm_hw-polybench-newmons.csv\n",
      "whamm_hw-r3-newmons.csv\n",
      "whamm_rewriting-r3-newmons(subset).csv\n",
      "whamm_rewriting-r3-calls.csv\n",
      "wizeng_native-r3.csv\n",
      "whamm_engine-polybench-newmons.csv\n",
      "whamm_hw-ostrich-branches_(some)hotness.csv\n",
      "whamm_engine-r3-oldmons.csv\n",
      "whamm_engine-polybench--int_bug.csv\n",
      "orca_rewrite-r3-oldmons.csv\n",
      "whamm_engine-oldmons-int-bug.csv\n",
      "whamm_rewriting-r3-cache.csv\n",
      "whamm_engine-ostrich-branches.csv\n",
      "whamm_hw-polybench--int_bug.csv\n",
      "wizeng_native-ostrich.csv\n",
      "wasabi-polybench-newmons.csv\n",
      "whamm_hw-r3-oldmons.csv\n",
      "orca_rewrite-r3-newmons.csv\n",
      "orca_rewrite-polybench-newmons.csv\n"
     ]
    }
   ],
   "source": [
    "csv_files = [f for f in glob.glob(\"*.csv\") if f not in [\n",
    "    \"all-results.csv\",\n",
    "    \"new-results.csv\",\n",
    "    \"r3.csv\",\n",
    "    \"r3_base.csv\",\n",
    "    \"polybench.csv\",\n",
    "    \"opts_r3.csv\",\n",
    "    \"opts_polybench.csv\",\n",
    "    #\"wasabi-r3-newmons(only_supports_this_one).csv\",\n",
    "    \"wasabi-ostrich-newmons.csv\",\n",
    "    #\"wasabi-polybench-newmons.csv\",\n",
    "    ]]\n",
    "for csv_file in csv_files:\n",
    "    print(csv_file)\n",
    "    try:\n",
    "        pd.read_csv(csv_file)\n",
    "    except:\n",
    "        print(\"Error\")\n",
    "\n",
    "# csv_files.remove('wizeng_native-r3.csv')\n",
    "\n",
    "dfs = [pd.read_csv(csv_file, index_col=False) for csv_file in csv_files]"
   ]
  },
  {
   "cell_type": "code",
   "execution_count": null,
   "id": "cce1d293",
   "metadata": {},
   "outputs": [],
   "source": [
    "new = pd.concat([old] + dfs)\n",
    "\n",
    "print(new[new['config:experiment'] == 'base-run'])"
   ]
  },
  {
   "cell_type": "code",
   "execution_count": null,
   "id": "859a61dd",
   "metadata": {},
   "outputs": [],
   "source": [
    "pd.set_option('display.max_columns', None)\n",
    "pd.set_option('display.max_rows', None)\n",
    "pd.set_option('display.width', 1000)\n",
    "\n",
    "print(new)\n",
    "# new[new['config:run_mode'] == 'base_jit']"
   ]
  },
  {
   "cell_type": "code",
   "execution_count": 224,
   "id": "1507ad60",
   "metadata": {},
   "outputs": [],
   "source": [
    "new = new.drop_duplicates(subset=['config:run_mode', 'config:monitor', 'config:experiment', 'config:special', 'benchmark:suite', 'benchmark:name'], keep='last')"
   ]
  },
  {
   "cell_type": "code",
   "execution_count": null,
   "id": "a6af79a7",
   "metadata": {},
   "outputs": [],
   "source": [
    "new[new['run_errored']]"
   ]
  },
  {
   "cell_type": "code",
   "execution_count": null,
   "id": "74eddba6",
   "metadata": {},
   "outputs": [],
   "source": [
    "print(new)"
   ]
  },
  {
   "cell_type": "code",
   "execution_count": 227,
   "id": "9eb65040",
   "metadata": {},
   "outputs": [],
   "source": [
    "new_out = new.copy()\n",
    "\n",
    "# new_out = new[[\n",
    "#     \"config:run_mode\", \"config:monitor\", \"config:experiment\", \"config:special\",\n",
    "#     \"benchmark:suite\", \"benchmark:name\", \"run_errored\", \"run_time:mean\",\n",
    "#     \"run_time:user\", \"run_time:system\", \"run_cmd\", \"run_timed_out\"\n",
    "# ]]\n",
    "# new_out['run_errored'] = new_out['run_errored'].astype('bool')\n",
    "# new_out = new_out[new_out['run_time:mean'] != 'NONE']\n",
    "# opts = new_out[new_out['wiz_metrics_pregen:time_us'] != 'NONE']\n",
    "opts = new[[\n",
    "    \"run_errored\",\n",
    "    \"config:run_mode\", \"config:monitor\", \"config:experiment\", \"config:special\",\n",
    "    \"benchmark:suite\", \"benchmark:name\",\n",
    "      \"wiz_metrics_main:time_us\", \"wiz_metrics_whamm:report_time_us\",\n",
    "      \"run_cmd\", \"run_timed_out\"\n",
    "]]\n",
    "opts = opts[opts[\"run_errored\"] == False]\n",
    "opts[\"wiz_metrics_main:time_us\"] = opts[\"wiz_metrics_main:time_us\"].replace(\"NONE\", 6e8)\n",
    "opts[\"wiz_metrics_whamm:report_time_us\"] = opts[\"wiz_metrics_whamm:report_time_us\"].replace(\"NONE\", 0)\n",
    "opts[\"wiz_metrics_main:time_us\"] = opts[\"wiz_metrics_main:time_us\"].fillna(6e8)\n",
    "opts[\"wiz_metrics_whamm:report_time_us\"] = opts[\"wiz_metrics_whamm:report_time_us\"].fillna(0)\n",
    "# opts = opts[opts['config:special'].isna()]\n",
    "opts = opts[opts['config:experiment'].isin(['whamm_engine', 'base-run', 'whamm_rewrite'])]\n",
    "opts_polybench = opts[opts['benchmark:suite'] == 'polybench']\n",
    "opts_r3 = opts[opts['benchmark:suite'] == 'r3']\n",
    "\n",
    "fmwks = new[[\n",
    "    \"config:run_mode\", \"config:monitor\", \"config:experiment\", \"config:special\",\n",
    "    \"benchmark:suite\", \"benchmark:name\",\n",
    "    \"run_time:mean\",\n",
    "    \"run_cmd\", \"run_timed_out\"\n",
    "]]\n",
    "fmwks = fmwks[fmwks['config:special'].isna()]\n",
    "fmwks[\"run_time:mean\"] = fmwks[\"run_time:mean\"].replace(\"NONE\", 600)\n",
    "fmwks[\"run_time:mean\"] = fmwks[\"run_time:mean\"].fillna(600)\n",
    "polybench = fmwks[fmwks['benchmark:suite'] == 'polybench']\n",
    "# r3_base = pd.read_csv('r3_base.csv')\n",
    "r3 = fmwks[fmwks['benchmark:suite'] == 'r3']\n",
    "# r3 = pd.concat([r3, r3_base])\n",
    "# opts_r3 = pd.concat([opts_r3, r3_base])\n",
    "opts_r3.to_csv('opts_r3.csv')\n",
    "opts_polybench.to_csv('opts_polybench.csv')\n",
    "polybench.to_csv('polybench.csv')\n",
    "r3.to_csv('r3.csv')\n",
    "# print(new_out.groupby('config:experiment'))\n",
    "# new_out[(new_out['config:experiment'] == 'whamm_engine') & (new_out['benchmark:name'] == 'bicg.wasm') & (new_out['config:monitor'] == 'mem-access') & (new_out['config:special'] == 'calc-bundle')]"
   ]
  },
  {
   "cell_type": "code",
   "execution_count": null,
   "id": "71b6f433",
   "metadata": {},
   "outputs": [],
   "source": [
    "print(polybench[polybench['config:experiment'] == 'base-run'])"
   ]
  },
  {
   "cell_type": "code",
   "execution_count": 49,
   "id": "cd406f12",
   "metadata": {},
   "outputs": [
    {
     "name": "stdout",
     "output_type": "stream",
     "text": [
      "Empty DataFrame\n",
      "Columns: [config:run_mode, config:monitor, config:experiment, config:special, benchmark:suite, benchmark:name, run_errored, run_time:mean, run_time:user, run_time:system, wiz_metrics_pregen:time_us, wiz_metrics_pregen:bytes, wiz_metrics_load:time_us, wiz_metrics_load:bytes, wiz_metrics_load:time_per_byte, wiz_metrics_validate:time_us, wiz_metrics_validate:bytes, wiz_metrics_validate:time_per_byte, wiz_metrics_spc:in_bytes, wiz_metrics_spc:code_bytes, wiz_metrics_spc:data_bytes, wiz_metrics_spc:time_us, wiz_metrics_spc:functions, wiz_metrics_spc:time_per_byte, wiz_metrics_start:time_us, wiz_metrics_main:time_us, wiz_metrics_main:time_cycles, wiz_metrics_probes:fired, wiz_metrics_whamm:bind_time_us, wiz_metrics_whamm:report_time_us, run_cmd, run_timed_out]\n",
      "Index: []\n"
     ]
    }
   ],
   "source": [
    "print(new[new.duplicated(subset=['config:run_mode', 'config:monitor', 'config:experiment', 'config:special', 'benchmark:suite', 'benchmark:name'], keep='last')])"
   ]
  }
 ],
 "metadata": {
  "kernelspec": {
   "display_name": "base",
   "language": "python",
   "name": "python3"
  },
  "language_info": {
   "codemirror_mode": {
    "name": "ipython",
    "version": 3
   },
   "file_extension": ".py",
   "mimetype": "text/x-python",
   "name": "python",
   "nbconvert_exporter": "python",
   "pygments_lexer": "ipython3",
   "version": "3.11.7"
  }
 },
 "nbformat": 4,
 "nbformat_minor": 5
}
